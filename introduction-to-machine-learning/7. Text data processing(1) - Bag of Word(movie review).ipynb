{
 "cells": [
  {
   "cell_type": "code",
   "execution_count": 1,
   "metadata": {},
   "outputs": [],
   "source": [
    "import numpy as np"
   ]
  },
  {
   "cell_type": "markdown",
   "metadata": {},
   "source": [
    "데이터 타입\n",
    "\n",
    "1. 연속형\n",
    "2. 범주형\n",
    "3. 텍스트\n",
    "\n",
    "텍스트 데이터는 주로 글자가 연결된 문자열로 표현된다. 텍스트 데이터의 길이는 서로 같은 경우가 없다. 이런 특성은 수치형 특성과 매우 다르므로 머신러닝 알고리즘 적용 전에 전처리 해야 한다."
   ]
  },
  {
   "cell_type": "markdown",
   "metadata": {},
   "source": [
    "# 7.1 문자열 데이터 타입"
   ]
  },
  {
   "cell_type": "markdown",
   "metadata": {},
   "source": [
    "- 문자열 데이터 타입\n",
    "\n",
    "\n",
    "1. 범주형 데이터\n",
    "2. 범주에 의미를 연결시킬 수 있는 임의의 문자열\n",
    "3. 구조화된 문자열 데이터\n",
    "4. 텍스트 데이터"
   ]
  },
  {
   "cell_type": "markdown",
   "metadata": {},
   "source": [
    "- 텍스트 분석에서는 데이터셋을 말뭉치(corpus)라고 하고, 하나의 텍스트를 의미하는 각 데이터 포인트를 문서(document)라 한다. 이런 용어는 텍스트 데이터를 주로 다루는 정보 검색(IR)과 자연어 처리(NLP) 공동체에서 유래했다."
   ]
  },
  {
   "cell_type": "markdown",
   "metadata": {},
   "source": [
    "# 7.2 영화 리뷰 감성 분석"
   ]
  },
  {
   "cell_type": "code",
   "execution_count": 3,
   "metadata": {},
   "outputs": [],
   "source": [
    "from sklearn.datasets import load_files\n",
    "\n",
    "reviews_train = load_files(\"data/aclImdb/train/\")\n",
    "\n",
    "# 텍스트와 레이블을 포함하는 Bunch 객체를 반환\n",
    "text_train, y_train = reviews_train.data, reviews_train.target"
   ]
  },
  {
   "cell_type": "code",
   "execution_count": 4,
   "metadata": {},
   "outputs": [
    {
     "name": "stdout",
     "output_type": "stream",
     "text": [
      "text_train 타입: <class 'list'>\n",
      "text_train 길이: 25000\n",
      "text_train[6]: \n",
      "b\"This movie has a special way of telling the story, at first i found it rather odd as it jumped through time and I had no idea whats happening.<br /><br />Anyway the story line was although simple, but still very real and touching. You met someone the first time, you fell in love completely, but broke up at last and promoted a deadly agony. Who hasn't go through this? but we will never forget this kind of pain in our life. <br /><br />I would say i am rather touched as two actor has shown great performance in showing the love between the characters. I just wish that the story could be a happy ending.\"\n"
     ]
    }
   ],
   "source": [
    "print(\"text_train 타입: {}\".format(type(text_train)))\n",
    "print(\"text_train 길이: {}\".format(len(text_train)))\n",
    "print(\"text_train[6]: \\n{}\".format(text_train[6]))"
   ]
  },
  {
   "cell_type": "code",
   "execution_count": 5,
   "metadata": {},
   "outputs": [],
   "source": [
    "text_train = [doc.replace(b\"<br />\", b\" \") for doc in text_train]"
   ]
  },
  {
   "cell_type": "code",
   "execution_count": 6,
   "metadata": {},
   "outputs": [
    {
     "name": "stdout",
     "output_type": "stream",
     "text": [
      "text_train 타입: <class 'list'>\n",
      "text_train 길이: 25000\n",
      "text_train[6]: \n",
      "b\"This movie has a special way of telling the story, at first i found it rather odd as it jumped through time and I had no idea whats happening.  Anyway the story line was although simple, but still very real and touching. You met someone the first time, you fell in love completely, but broke up at last and promoted a deadly agony. Who hasn't go through this? but we will never forget this kind of pain in our life.   I would say i am rather touched as two actor has shown great performance in showing the love between the characters. I just wish that the story could be a happy ending.\"\n"
     ]
    }
   ],
   "source": [
    "print(\"text_train 타입: {}\".format(type(text_train)))\n",
    "print(\"text_train 길이: {}\".format(len(text_train)))\n",
    "print(\"text_train[6]: \\n{}\".format(text_train[6]))"
   ]
  },
  {
   "cell_type": "code",
   "execution_count": 7,
   "metadata": {},
   "outputs": [
    {
     "name": "stdout",
     "output_type": "stream",
     "text": [
      "클래스별 샘플 수 (훈련 데이터): [12500 12500]\n"
     ]
    }
   ],
   "source": [
    "print(\"클래스별 샘플 수 (훈련 데이터): {}\".format(np.bincount(y_train)))"
   ]
  },
  {
   "cell_type": "code",
   "execution_count": 8,
   "metadata": {},
   "outputs": [],
   "source": [
    "reviews_test = load_files('data/aclImdb/test/')\n",
    "text_test, y_test = reviews_test.data, reviews_test.target"
   ]
  },
  {
   "cell_type": "code",
   "execution_count": 9,
   "metadata": {},
   "outputs": [
    {
     "name": "stdout",
     "output_type": "stream",
     "text": [
      "테스트 데이터 문서 수: 25000\n",
      "클래스 별 샘플 수 (테스트 데이터): [12500 12500]\n"
     ]
    }
   ],
   "source": [
    "print(\"테스트 데이터 문서 수: {}\".format(len(text_test)))\n",
    "print(\"클래스 별 샘플 수 (테스트 데이터): {}\".format(np.bincount(y_test)))\n",
    "text_test = [doc.replace(b\"<br / >\", b\" \") for doc in text_test]"
   ]
  },
  {
   "cell_type": "markdown",
   "metadata": {},
   "source": [
    "# 7.3 텍스트 데이터를 BOW로 표현하기"
   ]
  },
  {
   "cell_type": "markdown",
   "metadata": {},
   "source": [
    "- 머신러닝에서 텍스트를 표현하는 방법 중 BOW는 가장 간단하지만 효과적이면서 널리 쓰이는 방법이다. 이 방법을 쓰면 장, 문단, 문장, 서식 같은 입력 텍스트 구조 대부분을 잃고, 각 단어가 이 말뭉치에 있는 텍스트에 얼마나 많이 나타나는지만 헤아린다. 구조와 상관없이 단어의 출현 횟수만 세기 떄문에 텍스트를 담는 가방으로 생각할 수 있다."
   ]
  },
  {
   "cell_type": "markdown",
   "metadata": {},
   "source": [
    "1. 토큰화: 각 문서를 문서에 포함된 단어로 나눈다.\n",
    "2. 어휘 사전 구축: 모든 문서에 나타난 모든 단어의 어휘를 모으고 번호를 매긴다.\n",
    "3. 인코딩: 어휘 사전의 단어가 문서마다 몇 번이나 나타나는지 헤어린다."
   ]
  },
  {
   "cell_type": "markdown",
   "metadata": {},
   "source": [
    "## 1. 샘플"
   ]
  },
  {
   "cell_type": "code",
   "execution_count": 10,
   "metadata": {},
   "outputs": [],
   "source": [
    "bard_words = ['The fool doth think he is wise',\n",
    "              \"but the wise man knows himself to be a fool\"]"
   ]
  },
  {
   "cell_type": "code",
   "execution_count": 11,
   "metadata": {},
   "outputs": [
    {
     "data": {
      "text/plain": [
       "CountVectorizer(analyzer='word', binary=False, decode_error='strict',\n",
       "        dtype=<class 'numpy.int64'>, encoding='utf-8', input='content',\n",
       "        lowercase=True, max_df=1.0, max_features=None, min_df=1,\n",
       "        ngram_range=(1, 1), preprocessor=None, stop_words=None,\n",
       "        strip_accents=None, token_pattern='(?u)\\\\b\\\\w\\\\w+\\\\b',\n",
       "        tokenizer=None, vocabulary=None)"
      ]
     },
     "execution_count": 11,
     "metadata": {},
     "output_type": "execute_result"
    }
   ],
   "source": [
    "from sklearn.feature_extraction.text import CountVectorizer\n",
    "\n",
    "vect = CountVectorizer()\n",
    "vect.fit(bard_words)"
   ]
  },
  {
   "cell_type": "code",
   "execution_count": 12,
   "metadata": {},
   "outputs": [
    {
     "name": "stdout",
     "output_type": "stream",
     "text": [
      "어휘 사전 크기: 13\n",
      "어휘 사전 내용: {'the': 9, 'fool': 3, 'doth': 2, 'think': 10, 'he': 4, 'is': 6, 'wise': 12, 'but': 1, 'man': 8, 'knows': 7, 'himself': 5, 'to': 11, 'be': 0}\n"
     ]
    }
   ],
   "source": [
    "print(\"어휘 사전 크기: {}\".format(len(vect.vocabulary_)))\n",
    "print(\"어휘 사전 내용: {}\".format(vect.vocabulary_))"
   ]
  },
  {
   "cell_type": "code",
   "execution_count": 13,
   "metadata": {},
   "outputs": [
    {
     "name": "stdout",
     "output_type": "stream",
     "text": [
      "BOW: <2x13 sparse matrix of type '<class 'numpy.int64'>'\n",
      "\twith 16 stored elements in Compressed Sparse Row format>\n"
     ]
    }
   ],
   "source": [
    "bag_of_words = vect.transform(bard_words)\n",
    "print(\"BOW: {}\".format(repr(bag_of_words)))"
   ]
  },
  {
   "cell_type": "markdown",
   "metadata": {},
   "source": [
    "- 대부분의 문서는 어휘 사전에 있는 단어 중 일부만 포함하므로, 즉 특성 배열의 대부분 원소가 0이라서 희소 행렬을 사용한다. 전체 영어 단어 수에 비해 영화 리뷰에 얼마나 많은 단어가 나타날지 생각해보면 더 이해하기 쉽다. 값이 0인 원소를 저장하는 것은 메모리 낭비"
   ]
  },
  {
   "cell_type": "code",
   "execution_count": 14,
   "metadata": {},
   "outputs": [
    {
     "name": "stdout",
     "output_type": "stream",
     "text": [
      "BOW: \n",
      "[[0 0 1 1 1 0 1 0 0 1 1 0 1]\n",
      " [1 1 0 1 0 1 0 1 1 1 0 1 1]]\n"
     ]
    }
   ],
   "source": [
    "print(\"BOW: \\n{}\".format(bag_of_words.toarray()))"
   ]
  },
  {
   "cell_type": "markdown",
   "metadata": {},
   "source": [
    "## 2. 영화 리뷰에 대한 BOW"
   ]
  },
  {
   "cell_type": "code",
   "execution_count": 15,
   "metadata": {},
   "outputs": [
    {
     "name": "stdout",
     "output_type": "stream",
     "text": [
      "X_train:\n",
      "<25000x74849 sparse matrix of type '<class 'numpy.int64'>'\n",
      "\twith 3431196 stored elements in Compressed Sparse Row format>\n"
     ]
    }
   ],
   "source": [
    "vect = CountVectorizer().fit(text_train)\n",
    "X_train = vect.transform(text_train)\n",
    "print(\"X_train:\\n{}\".format(repr(X_train)))"
   ]
  },
  {
   "cell_type": "markdown",
   "metadata": {},
   "source": [
    "- 총 74,489 차원"
   ]
  },
  {
   "cell_type": "code",
   "execution_count": 16,
   "metadata": {},
   "outputs": [
    {
     "name": "stdout",
     "output_type": "stream",
     "text": [
      "특성 개수: 74849\n",
      "처음 20개 특성: \n",
      "['00', '000', '0000000000001', '00001', '00015', '000s', '001', '003830', '006', '007', '0079', '0080', '0083', '0093638', '00am', '00pm', '00s', '01', '01pm', '02']\n",
      "20,010에서 20,030까지 특성: \n",
      "\n",
      "매 2,000번쨰 특성: \n",
      "['00', 'aesir', 'aquarian', 'barking', 'blustering', 'bête', 'chicanery', 'condensing', 'cunning', 'detox', 'draper', 'enshrined', 'favorit', 'freezer', 'goldman', 'hasan', 'huitieme', 'intelligible', 'kantrowitz', 'lawful', 'maars', 'megalunged', 'mostey', 'norrland', 'padilla', 'pincher', 'promisingly', 'receptionist', 'rivals', 'schnaas', 'shunning', 'sparse', 'subset', 'temptations', 'treatises', 'unproven', 'walkman', 'xylophonist']\n"
     ]
    }
   ],
   "source": [
    "feature_names = vect.get_feature_names()\n",
    "print(\"특성 개수: {}\".format(len(feature_names)))\n",
    "print(\"처음 20개 특성: \\n{}\".format(feature_names[:20]))\n",
    "print(\"20,010에서 20,030까지 특성: \\n\".format(feature_names[20010:20030]))\n",
    "print(\"매 2,000번쨰 특성: \\n{}\".format(feature_names[::2000]))"
   ]
  },
  {
   "cell_type": "code",
   "execution_count": 17,
   "metadata": {},
   "outputs": [
    {
     "data": {
      "text/plain": [
       "[b'\"Dutch Schultz\", AKA Arthur Fleggenheimer, was a real person and his rather nasty life is fairly well documented. This movie which purports to depict his life should have used a fictional character, because the overdramatized events are too strong a departure from the facts and the chronology. Not only that, it ignores some interesting details which other versions have included such as the public relations fiasco in upstate N.Y. and his religious conversion. It is true that he was executed by Luciano, Lansky, et. al. but that\\'s as far as it goes. The exploding plate scene which represents Luciano carrying out the execution of Bo Weinberg in his own home, assisted by his own mother is rediculous. Also, there is the scene in which Dutch approaches his own mother to pay protection to Legs Diamond. It just doesn\\'t work. The character of Mrs. Fleggenheimer doesn\\'t work either. This movie does not need a doting Jewish mother for comic relief. The lame representation of Legs Diamond was humorous enough. I\\'m sure the man is turning in his grave. And, by the way, Dutch did in fact personally kill people, but, he was not Rambo or 007. The scene in which he wipes out the brewery is absurd. I don\\'t know. Maybe it was supposed to be a comedy and I just didn\\'t get it.',\n",
       " b'First off, this is an excellent series, though we have sort of a James Bond effect. What I mean is that while the new Casino Royale takes place in 2006, it is chronologically the first adventure of 007, Dr. No (1962) being the second, while in Golden Eye, the first film with Pierce Brosnan, Judi Dench is referred to as the new replacement for the male \"M\" so how could she have been in place in the beginning before Bond became a double-0, aside from the fact that she is obviously 14 years older? This is more or less a \"poetic\" license to thrill. We need to turn our heads aside a bit if we wish to be entertained. No, the new Star Trek movie does not have any of the primitive electronics of the original series from nearly half a century ago. In the 1960\\'s communicators were fantasy. (now we call them cell phones) and there were sliding levers instead of buttons. OMG, do you think 400 years from now, they would have perfected Rogaine for Jean-Luc Picard? So, please, let\\'s give the producers some leeway.  But to try and make things a bit consistent, let us just ponder about the Cylons creation just 60 years prior to the end of Battlestar Galactica. If that is the case, where did all the Cylons that populated the original earth come from? We know that the technology exists for spontaneous jumps through space. Well, what happened if one of the Cyclon ships at war with the Caprica fleet was fired upon or there was a sunspot or whatever and one ship, loaded with human-looking Cylons, wound up not only jumping through space, but through time, back a thousand or ten thousand years with a crippled ship near Earth One. They colonized it, found out they could repopulate it and eventually destroyed themselves, but not before they themselves sent out a \"ragtag\" fleet to search for the legendary Caprica, only to find a habitable but unpopulated planet, which they colonized to become the humans, who eventually invented the Cylons. Time paradox? Of course. Which came first, the chicken or the road? Who cares? It\\'s fraking entertaining!',\n",
       " b'This game is the bomb and this is the 007 game of the year and should be on greatest hits. When I got Agent Under Fire, I thought that was a good game but then Nightfire came around and that was better, but now there is a new type of James Bond game. This time it a 3rd person shooter and there is more than 12 missions, the graphics of the game are out of this house. It even has all of the great actors and actresses in this game like Pierce Bronsan as once again James Bond, William Dafoe as the villain Nikolai Diavolo, and Judi Dench as M (forgive me all if I spell it wrong). This game would be own as the greatest James Bond game around.  I give this a 10/10',\n",
       " b'Don\\'t get me wrong. \"GoldenEye\" was revolutionary and is definitely the best FPS game to be based on the 007 franchise. But the series had fallen into a FPS rut. Enter \"Everything or Nothing\", which puts Bond in third-person. When I wrote my earlier review for \"From Russia With Love\", I had finished FRWL and just started EON and judged EON a bit harshly. Even though FRWL definitely has the edge in nostalgia and capturing the essence of the movie franchise, EON definitely is superior in terms of in-depth controls and gameplay variety. Missions range from standard running-and-gunning to driving an SUV, driving an Aston Martin, driving a limousine that is wired to explode, commandeering two different types of tanks a la \"GoldenEye\", riding a motorcycle, flying a helicopter, repelling down a shaft guarded by laser tripwires, and free falling after a plummeting damsel. Sure, vehicle controls are a little clumsy, but the issue here is the variety.  As movie adaptations, \"GoldenEye\" and FRWL were all that I could have hoped for. But EON\\'s original storyline adds to the feeling of controlling a James Bond adventure. This is helped by the impressive cast list of Willem DeFoe, Shannon Elizabeth, Heidi Klum, and Misaki Ito. Judi Dench and John Cleese reprise their movie roles of M and Q, respectively, and Pierce Brosnan, while no Sean Connery, adds credibility to the game\\'s proceedings. All characters resemble the stars, with the disappointing exception of Heidi Klum, who\\'s in-game model doesn\\'t do the real-life model justice. Mya\\'s theme song is on par with at least some of the big screen Bond title tunes.  The game also plays tribute to some of the older Bond movies. Willem DeFoe\\'s character is a former colleague of Christopher Walken\\'s baddie from \"A View to a Kill\". Richard Kiel appears as Jaws, the hulking henchman from \"The Spy Who Loved Me\" and \"Moonraker\" in three fight scenes, the first and best of which proceeds in the same fashion a fight in the movies would have.  Single-player gameplay mainly consists of standard on-foot missions as Bond. Like Bond, you will be able to choose whether to use stealth or go out with guns blazing. The game provides plenty of opportunities to utilize stealth, with plenty of wall and object cover. Unfortunately, unlike FRWL, only one button in EON controls both crouching and wall clinging, so Bond may end up crouching low when he\\'s supposed to be peeking around a corner, and vice-versa. The game also allows players to go into \"Bond reflex\" mode. While you browse your inventory, everything around you will go into super slo-mo, allowing you to analyze objects around you that can be interacted with. While this takes some getting used to, eventually this mode will allow you to perform many spectacular \"Bond moments\", such as shooting down a chandelier to take out four goons underneath, and greatly add to the Bond movie feeling.  There are 3 available difficulty levels: Operative, Agent, and Double Oh. On Operative, you can breeze through in a few hours. On Agent, a few weeks. On Double Oh, a few months. The difficulty level can be changed for each individual mission. Garnering high scores on missions will unlock gold and platinum awards and effect features such as vehicle upgrades and the skimpy outfits the Bond girls wear. Some missions can be extremely frustrating due to a scarcity of checkpoints, but when all is said and done, no mission is any longer than a single action scene in a Bond movie.  Multi-player, unfortunately, is not as thrilling. \"GoldenEye\" still has the best multi-player mode of any Bond game. EON\\'s main multi-player is a co-op campaign mode that puts players in charge of lesser MI6 agents on a less important mission than Bond\\'s. A more standard third-person death match can be unlocked from this mode. But the single-player mode is the most complete Bond experience to date. The ending, as with most Bond games, is anticlimactic. While the final mission is one of the most aggravating of the game, the final confrontation with the villain is disappointing. Also, levels that require Bond to be speedy become largely a matter of trial and error. Still, for any serious Bond fan, not playing this game is tantamount to missing one of the Bond films.',\n",
       " b'What a moving film. I have a dear friend who is in her sixties and for the past 15 years has told me that people don\\'t see her anymore, and she longs for companionship. Being in my late 40s I am beginning to see what she has been complaining about. You are no longer youthful, beautiful or touchable. When May says \"...this lump of a body...\" wow. How our bodies change and how we are told it is no longer beautiful. I love when she begins to change what she wears...the colorful scarf...no longer the frumpy wife.  It is a sad and wonderful picture at the same time. Sad in that May betrays her daughter\\'s trust...beautiful in that she finds herself through the difficulty of the affair, and chooses to move on and finally have her own life. I love the character\\'s daring to even initiate the love affair.  Mostly I love the movie because finally it is a picture that shows the intricate nature of relationships, be they familial or not. We see Paula\\'s vulnerability, yet she will have what she wants at all costs...(when she tells her mum that she will have a baby for Darren whether he wants one or not after her mother asks if Darren even wants a child). The movie hits the mark on the how relationships can change, and yet reveals what has been there all along, dormant. May has stifled her own creativity to raise a family. A family that she didn\\'t really want, but was \"something you just did when she was young\". I love the scene when Darren calls her an old tart, and she smiles and says \"I was never called that before\". It was truly a gem of a movie.  And Daniel Craig. Well, i just love him. I was pleasantly surprised. Not only is he pleasant on the eyes, he is a real talent. What a neat role. He is much more than any 007 that is for sure and I look forward to seeing him in more roles of this nature. The scene where he is pleasuring May and the look he gives her is sort of a look of wonder that he has such control over this woman, and also one of pleasure of being able to give this to her. He is actually enjoying giving her pleasure. A wonderful scene. The contrast is the love scene with Bruce. Bruce is totally absorbed with his own pleasure...two completely different men.  Alas...I wonder where is my Darren?',\n",
       " b'Shannon Lee,the daughter of Bruce Lee,delivers high kicking martial arts action in spades in this exhilarating Hong Kong movie and proves that like her late brother Brandon she is a real chip off the old block. There is high tech stuntwork to die for in this fast paced flick and the makers of the Bond movies should give it a look if they want to spice up the action quotient of the next 007 adventure as there is much innovative stuff here with some fresh and original second unit work to bolster up the already high action content of \"AND NOW,YOU\\'RE DEAD\". When you watch a movie as fast paced and entertaining as this you begin to wonder how cinema itself was able to survive before the martial arts genre was created.I genuinely believe that movies in general and action movies in particular were just marking time until the first kung fu movies made their debut. Bruce Lee was the father of modern action cinema and his legitimate surviving offspring Shannon does not let the family name down here.Although there are several pleasing performances in this movie (Michel Wong for one)it is Shannon Lee whom you will remember for a genuinely spectacular performance as Mandy the hitgirl supreme.Hell;you may well come away whistling her fights!',\n",
       " b\"When I first got my N64 when I was five or six,I fell in love with it,and my first game was Super Mario 64.And I LOVED IT!The graphics were great for it's time,a good plot,great courses and above all,the best music I heard in a Nintendo game.  I don't remember the plot completely,but I think Princess Peach was kidnapped by Bowser,and Mario has to rescue her.The object of the game is to get 120 stars from the curses in the castle.Each had about five or six challnges to get the stars.There are secert parts of the castle,where you can get more stars.But of course,you have beat Bowser.*I think there are three levels to beat Bowser on* Lets start with the characters.Mario is the main character,and gets helpful advice from Toad,so he is basically one of your only alliances.I heard that Luigi and Yoshi are in the game towards the end.The main villain is Bowser,and there are a bunch of other characters like Boo and Goomba.The characters are really great.  Next,how about the graphics?People say Gameplay is more important then the graphics,and I agree completely.But with he great plot,there are great graphics.Especially for it's time.I have a whole bunch of other Nintendo games like 007 and their graphics don't compare to Super Mario.Bright colors,great effects and awesome sound effects.I found the graphics in the water courses very very good.Next to the Bowser world ones,it has the best graphics in the game.  Now,the music.This is my favorite part of the game.Growing up,when I played this at a young age,I'd gladly leave the game on all night so the music would put me to sleep.Especially the music from Jolly Roger Bay,which was peaceful and wonderful.There are others that are great too,especially in,once again,the worlds with Bowser,are the ones that stick with me the most and are my favorites.  This game was my favorite past time as a developing gamer,and I love it.This game gets 10/10 or *****(5)/*****(5) GO PLAY THE GAME!\",\n",
       " b\"I thought the film could be a bit more complex,in a psychological sense perhaps, but the action and voice acting were top notch. The animation was heavy CG in many scenes, but very good ones at that. This is one of the Batman Returns/Forever type films, which include romances and the conflicts of Wayne and motives for dating. 007 fans would love this, and so would the females, great theme song! Wayne was portrayed very well in this film, and the Penquin was back to his true form, no mutant genes in him this time! I liked the fact Robin wasn't used too much, Tim Drake was just a good computer nerd, somewhat of an Indigo child or mind of the future.  The supporting cast was made up of some soap opera stars, decent talents and the characters were drawn to look like the voice actors too. Kelly Ripa was hilarious in this film.  I rate this below Phantasm, Return of the Joker, and Batman vs. Dracula, but liked the smarter script better than I enjoyed Subzero. 7/10\",\n",
       " b'What\\'s to like about this movie???  It is in colour!   It has some impressive underwater photography!   It has a rhythmic musical score in the background that works well at times!   So 3 out of 10!   Sometimes the music is speeded up! Especially when the shark or the baddies are about to move in!   Sometimes it is slowed! As if to convey to the audience it\\'s about to be time for sympathy!   As another one bites the dust! As if in a \"spagetti Western\" this has much similarity to!   It\\'s not that the Italians can\\'t produce quality productions! There was a series of TV movies with a heading like \"Octopus\" numbered about 1 to 7, screened on SBS TV in Australia in the 1990s about mafia-type conflicts! And they were excellent! But alas, you won\\'t find it here!!!  I assumed it was made about 1960s! Sadly it was 20 years out of date, as evidenced by a funeral scene near the end!   Then there was the razor-sharp bite of the speedy shark that makes for a red dust repeatedly emerging in the bluish waters!   Amidst it all, either in bar-room brawl or in observing the latest sea-side bloody demolition by the relentlessly hungry shark, the mate of the hero looks on through his glasses of little concern, as if he too was bored in his relentless role amidst a lack of much evidence of plot or anyone\\'s character development!   At least the hero indicates a fleeting concern belatedly, for his ex-wife!   But of course, even if the music fails to awaken our realisation, we have the sinister sound in the baddies\\' voices, as if to nudge us that another dark deed is about to emerge!   And near the end, someone thought of a twist! Just when we thought it was all totally predictable! But stay tuned, folks, for you may find another twist! If you are watching closely! To, more or less, warm your heart!   Follow the advice of the hero, and have a few beers along the way! It\\'ll make your viewing of \"Night of the Sharks\" more enjoyable!   Then you\\'ll be ready for something like a \"007\" movie to ease your way back into reality when this is over!!!',\n",
       " b\"Dark comedy? Gallows humor? How does one make a comedy out of murder? It can be risky business as the viewer is required to let go of their moral values and laugh at the antics of a man who kills people. So, the story has be rock solid with a good dash of suspended reality in order to make it work. So, Pierce Brosnan, the Irishman's answer to 007 is now cast as a chain-smoking, sex-addicted alcoholic who kills people for a living and is having a life crisis. He meets a struggling businessman, Greg Kinnear, and after a rocky beginning, he learns that he needs a friend. But, Greg's happily married to Hope Davis and Brosnan sees in him the basic things he doesn't have, love, home and a life. Add character actor, Philip Baker Hall as the hit-man's manager and we're off to the races. Brosnan is wonderfully crass and crude as the anti-hero and Kinnear delightful as his counterpart, the very human businessman. Hope Davis adds a sparkle as Kinnear's very conventional wife who is fascinated with this derelict who drifts into their lives. The ending is delightful and with some surprise to it. You should leave the theater feeling, at least, partly good-- if you're able to suspend being aghast at killing people.\",\n",
       " b'While flipping through the channels on a late Saturday night, my friends and I stumbled across this film. First of all, Irish actor Pierce Brosnan as a Native American? Seriously?! His accent was breaking through so much, although his character was apparently Scottish. Next, I was stunned to find that this film was made after he had already played James Bond/Agent 007 at least twice. This movie plays up the stereotypes, with the inspiring professor figure. The girl who played Pony should be paid to keep her mouth shut. And, this film won an award? I cannot believe it. Brosnan is an attractive man, but we seriously wanted to gauge our eyes out after watching this for just 10 seconds. We switched from \"Kicking and Screaming\" to this, and we wanted to switch back. We watched the 1995 children\\'s classic \"The Indian in the Cupboard\" earlier in the night, which also discussed the Iroquois. The following line represents our desire to run away: \"Take me outside, earth grasper.\" From \"Grey Owl\": \"If you don\\'t like it, you don\\'t have to watch.\"']"
      ]
     },
     "execution_count": 17,
     "metadata": {},
     "output_type": "execute_result"
    }
   ],
   "source": [
    "[text_train[i] for i in np.argwhere(X_train[:, 9] == 1)[:, 0]]"
   ]
  },
  {
   "cell_type": "code",
   "execution_count": 31,
   "metadata": {},
   "outputs": [
    {
     "data": {
      "text/plain": [
       "array([1, 0, 1, 0, 0])"
      ]
     },
     "execution_count": 31,
     "metadata": {},
     "output_type": "execute_result"
    }
   ],
   "source": [
    "y_train[:5]"
   ]
  },
  {
   "cell_type": "markdown",
   "metadata": {},
   "source": [
    "### 교차 검증"
   ]
  },
  {
   "cell_type": "code",
   "execution_count": 18,
   "metadata": {},
   "outputs": [
    {
     "name": "stderr",
     "output_type": "stream",
     "text": [
      "/anaconda3/envs/base-workspace/lib/python3.6/site-packages/sklearn/linear_model/logistic.py:432: FutureWarning: Default solver will be changed to 'lbfgs' in 0.22. Specify a solver to silence this warning.\n",
      "  FutureWarning)\n"
     ]
    },
    {
     "name": "stdout",
     "output_type": "stream",
     "text": [
      "교차 검증 평균 점수: 0.88\n"
     ]
    }
   ],
   "source": [
    "from sklearn.model_selection import cross_val_score\n",
    "from sklearn.linear_model import LogisticRegression\n",
    "scores = cross_val_score(LogisticRegression(), X_train, y_train, cv=5)\n",
    "print(\"교차 검증 평균 점수: {:.2f}\".format(np.mean(scores)))"
   ]
  },
  {
   "cell_type": "markdown",
   "metadata": {},
   "source": [
    "### GridSearch"
   ]
  },
  {
   "cell_type": "code",
   "execution_count": 19,
   "metadata": {
    "scrolled": true
   },
   "outputs": [
    {
     "name": "stdout",
     "output_type": "stream",
     "text": [
      "Fitting 5 folds for each of 5 candidates, totalling 25 fits\n",
      "[CV] C=0.001 .........................................................\n"
     ]
    },
    {
     "name": "stderr",
     "output_type": "stream",
     "text": [
      "[Parallel(n_jobs=1)]: Using backend SequentialBackend with 1 concurrent workers.\n",
      "/anaconda3/envs/base-workspace/lib/python3.6/site-packages/sklearn/linear_model/logistic.py:432: FutureWarning: Default solver will be changed to 'lbfgs' in 0.22. Specify a solver to silence this warning.\n",
      "  FutureWarning)\n"
     ]
    },
    {
     "name": "stdout",
     "output_type": "stream",
     "text": [
      "[CV] ............................ C=0.001, score=0.8416, total=   0.8s\n",
      "[CV] C=0.001 .........................................................\n"
     ]
    },
    {
     "name": "stderr",
     "output_type": "stream",
     "text": [
      "[Parallel(n_jobs=1)]: Done   1 out of   1 | elapsed:    0.8s remaining:    0.0s\n"
     ]
    },
    {
     "name": "stdout",
     "output_type": "stream",
     "text": [
      "[CV] ............................ C=0.001, score=0.8446, total=   0.7s\n",
      "[CV] C=0.001 .........................................................\n"
     ]
    },
    {
     "name": "stderr",
     "output_type": "stream",
     "text": [
      "[Parallel(n_jobs=1)]: Done   2 out of   2 | elapsed:    1.5s remaining:    0.0s\n"
     ]
    },
    {
     "name": "stdout",
     "output_type": "stream",
     "text": [
      "[CV] ............................ C=0.001, score=0.8484, total=   0.7s\n",
      "[CV] C=0.001 .........................................................\n"
     ]
    },
    {
     "name": "stderr",
     "output_type": "stream",
     "text": [
      "[Parallel(n_jobs=1)]: Done   3 out of   3 | elapsed:    2.3s remaining:    0.0s\n"
     ]
    },
    {
     "name": "stdout",
     "output_type": "stream",
     "text": [
      "[CV] ............................ C=0.001, score=0.8466, total=   0.7s\n",
      "[CV] C=0.001 .........................................................\n"
     ]
    },
    {
     "name": "stderr",
     "output_type": "stream",
     "text": [
      "[Parallel(n_jobs=1)]: Done   4 out of   4 | elapsed:    3.0s remaining:    0.0s\n"
     ]
    },
    {
     "name": "stdout",
     "output_type": "stream",
     "text": [
      "[CV] ............................. C=0.001, score=0.848, total=   0.7s\n",
      "[CV] C=0.01 ..........................................................\n"
     ]
    },
    {
     "name": "stderr",
     "output_type": "stream",
     "text": [
      "[Parallel(n_jobs=1)]: Done   5 out of   5 | elapsed:    3.8s remaining:    0.0s\n"
     ]
    },
    {
     "name": "stdout",
     "output_type": "stream",
     "text": [
      "[CV] ............................. C=0.01, score=0.8824, total=   1.3s\n",
      "[CV] C=0.01 ..........................................................\n"
     ]
    },
    {
     "name": "stderr",
     "output_type": "stream",
     "text": [
      "[Parallel(n_jobs=1)]: Done   6 out of   6 | elapsed:    5.0s remaining:    0.0s\n"
     ]
    },
    {
     "name": "stdout",
     "output_type": "stream",
     "text": [
      "[CV] .............................. C=0.01, score=0.882, total=   1.4s\n",
      "[CV] C=0.01 ..........................................................\n"
     ]
    },
    {
     "name": "stderr",
     "output_type": "stream",
     "text": [
      "[Parallel(n_jobs=1)]: Done   7 out of   7 | elapsed:    6.4s remaining:    0.0s\n"
     ]
    },
    {
     "name": "stdout",
     "output_type": "stream",
     "text": [
      "[CV] .............................. C=0.01, score=0.882, total=   1.4s\n",
      "[CV] C=0.01 ..........................................................\n"
     ]
    },
    {
     "name": "stderr",
     "output_type": "stream",
     "text": [
      "[Parallel(n_jobs=1)]: Done   8 out of   8 | elapsed:    7.8s remaining:    0.0s\n"
     ]
    },
    {
     "name": "stdout",
     "output_type": "stream",
     "text": [
      "[CV] ............................. C=0.01, score=0.8824, total=   1.3s\n",
      "[CV] C=0.01 ..........................................................\n"
     ]
    },
    {
     "name": "stderr",
     "output_type": "stream",
     "text": [
      "[Parallel(n_jobs=1)]: Done   9 out of   9 | elapsed:    9.1s remaining:    0.0s\n"
     ]
    },
    {
     "name": "stdout",
     "output_type": "stream",
     "text": [
      "[CV] ............................. C=0.01, score=0.8796, total=   1.3s\n",
      "[CV] C=0.1 ...........................................................\n",
      "[CV] .............................. C=0.1, score=0.8888, total=   2.8s\n",
      "[CV] C=0.1 ...........................................................\n",
      "[CV] ............................... C=0.1, score=0.885, total=   2.5s\n",
      "[CV] C=0.1 ...........................................................\n",
      "[CV] .............................. C=0.1, score=0.8894, total=   2.6s\n",
      "[CV] C=0.1 ...........................................................\n",
      "[CV] .............................. C=0.1, score=0.8948, total=   2.6s\n",
      "[CV] C=0.1 ...........................................................\n",
      "[CV] .............................. C=0.1, score=0.8828, total=   2.9s\n",
      "[CV] C=1 .............................................................\n",
      "[CV] ................................ C=1, score=0.8824, total=   6.7s\n",
      "[CV] C=1 .............................................................\n",
      "[CV] ................................. C=1, score=0.876, total=   5.3s\n",
      "[CV] C=1 .............................................................\n",
      "[CV] ................................ C=1, score=0.8822, total=   4.6s\n",
      "[CV] C=1 .............................................................\n",
      "[CV] ................................ C=1, score=0.8884, total=   4.5s\n",
      "[CV] C=1 .............................................................\n",
      "[CV] ................................ C=1, score=0.8776, total=   5.4s\n",
      "[CV] C=10 ............................................................\n",
      "[CV] ............................... C=10, score=0.8716, total=   5.7s\n",
      "[CV] C=10 ............................................................\n",
      "[CV] ............................... C=10, score=0.8696, total=   6.1s\n",
      "[CV] C=10 ............................................................\n",
      "[CV] ............................... C=10, score=0.8776, total=   7.1s\n",
      "[CV] C=10 ............................................................\n",
      "[CV] ............................... C=10, score=0.8826, total=   7.0s\n",
      "[CV] C=10 ............................................................\n",
      "[CV] ............................... C=10, score=0.8724, total=   5.9s\n"
     ]
    },
    {
     "name": "stderr",
     "output_type": "stream",
     "text": [
      "[Parallel(n_jobs=1)]: Done  25 out of  25 | elapsed:  1.4min finished\n"
     ]
    },
    {
     "data": {
      "text/plain": [
       "GridSearchCV(cv=5, error_score='raise-deprecating',\n",
       "       estimator=LogisticRegression(C=1.0, class_weight=None, dual=False, fit_intercept=True,\n",
       "          intercept_scaling=1, max_iter=100, multi_class='warn',\n",
       "          n_jobs=None, penalty='l2', random_state=None, solver='warn',\n",
       "          tol=0.0001, verbose=0, warm_start=False),\n",
       "       fit_params=None, iid='warn', n_jobs=None,\n",
       "       param_grid={'C': [0.001, 0.01, 0.1, 1, 10]},\n",
       "       pre_dispatch='2*n_jobs', refit=True, return_train_score='warn',\n",
       "       scoring=None, verbose=10)"
      ]
     },
     "execution_count": 19,
     "metadata": {},
     "output_type": "execute_result"
    }
   ],
   "source": [
    "from tqdm import tqdm, tnrange, tqdm_notebook\n",
    "from time import sleep\n",
    "\n",
    "from sklearn.model_selection import GridSearchCV\n",
    "param_grid = {'C': [0.001, 0.01, 0.1, 1, 10]}\n",
    "grid = GridSearchCV(LogisticRegression(), param_grid, cv=5, verbose=10)\n",
    "grid.fit(X_train, y_train)"
   ]
  },
  {
   "cell_type": "code",
   "execution_count": 20,
   "metadata": {},
   "outputs": [
    {
     "name": "stdout",
     "output_type": "stream",
     "text": [
      "최상의 교차 검증 점수: 0.89\n",
      "최적 매개변수:  {'C': 0.1}\n"
     ]
    }
   ],
   "source": [
    "print(\"최상의 교차 검증 점수: {:.2f}\".format(grid.best_score_))\n",
    "print(\"최적 매개변수: \", grid.best_params_)"
   ]
  },
  {
   "cell_type": "code",
   "execution_count": 21,
   "metadata": {},
   "outputs": [
    {
     "name": "stdout",
     "output_type": "stream",
     "text": [
      "테스트 점수: 0.88\n"
     ]
    }
   ],
   "source": [
    "X_test = vect.transform(text_test)\n",
    "print(\"테스트 점수: {:.2f}\".format(grid.score(X_test, y_test)))"
   ]
  },
  {
   "cell_type": "markdown",
   "metadata": {},
   "source": [
    "### 단어 추출 방법 개선: 5개 이상의 문서에서 토큰 추출"
   ]
  },
  {
   "cell_type": "code",
   "execution_count": 22,
   "metadata": {},
   "outputs": [
    {
     "name": "stdout",
     "output_type": "stream",
     "text": [
      "min_df 로 제한한 X_train: <25000x27271 sparse matrix of type '<class 'numpy.int64'>'\n",
      "\twith 3354014 stored elements in Compressed Sparse Row format>\n"
     ]
    }
   ],
   "source": [
    "vect = CountVectorizer(min_df=5).fit(text_train)\n",
    "X_train = vect.transform(text_train)\n",
    "print(\"min_df 로 제한한 X_train: {}\".format(repr(X_train)))"
   ]
  },
  {
   "cell_type": "code",
   "execution_count": 23,
   "metadata": {},
   "outputs": [
    {
     "name": "stdout",
     "output_type": "stream",
     "text": [
      "특성 개수: 27271\n",
      "처음 50개 특성:\n",
      "['00', '000', '007', '00s', '01', '02', '03', '04', '05', '06', '07', '08', '09', '10', '100', '1000', '100th', '101', '102', '103', '104', '105', '107', '108', '10s', '10th', '11', '110', '112', '116', '117', '11th', '12', '120', '12th', '13', '135', '13th', '14', '140', '14th', '15', '150', '15th', '16', '160', '1600', '16mm', '16s', '16th']\n",
      "20,010개부터 20,030까지 특성:\n",
      "['repentance', 'repercussions', 'repertoire', 'repetition', 'repetitions', 'repetitious', 'repetitive', 'rephrase', 'replace', 'replaced', 'replacement', 'replaces', 'replacing', 'replay', 'replayable', 'replayed', 'replaying', 'replays', 'replete', 'replica']\n",
      "매 700번째 특성:\n",
      "['00', 'affections', 'appropriately', 'barbra', 'blurbs', 'butchered', 'cheese', 'commitment', 'courts', 'deconstructed', 'disgraceful', 'dvds', 'eschews', 'fell', 'freezer', 'goriest', 'hauser', 'hungary', 'insinuate', 'juggle', 'leering', 'maelstrom', 'messiah', 'music', 'occasional', 'parking', 'pleasantville', 'pronunciation', 'recipient', 'reviews', 'sas', 'shea', 'sneers', 'steiger', 'swastika', 'thrusting', 'tvs', 'vampyre', 'westerns']\n"
     ]
    }
   ],
   "source": [
    "feature_names = vect.get_feature_names()\n",
    "\n",
    "print(\"특성 개수: {}\".format(len(feature_names)))\n",
    "print(\"처음 50개 특성:\\n{}\".format(feature_names[:50]))\n",
    "print(\"20,010개부터 20,030까지 특성:\\n{}\".format(feature_names[20010:20030]))\n",
    "print(\"매 700번째 특성:\\n{}\".format(feature_names[::700]))"
   ]
  },
  {
   "cell_type": "markdown",
   "metadata": {},
   "source": [
    "- 특성 개수가 감소했다."
   ]
  },
  {
   "cell_type": "code",
   "execution_count": 24,
   "metadata": {
    "scrolled": true
   },
   "outputs": [
    {
     "name": "stdout",
     "output_type": "stream",
     "text": [
      "Fitting 5 folds for each of 5 candidates, totalling 25 fits\n"
     ]
    },
    {
     "name": "stderr",
     "output_type": "stream",
     "text": [
      "[Parallel(n_jobs=4)]: Using backend LokyBackend with 4 concurrent workers.\n",
      "[Parallel(n_jobs=4)]: Done  10 tasks      | elapsed:    7.0s\n",
      "[Parallel(n_jobs=4)]: Done  25 out of  25 | elapsed:   35.6s finished\n",
      "/anaconda3/envs/base-workspace/lib/python3.6/site-packages/sklearn/linear_model/logistic.py:432: FutureWarning: Default solver will be changed to 'lbfgs' in 0.22. Specify a solver to silence this warning.\n",
      "  FutureWarning)\n"
     ]
    },
    {
     "name": "stdout",
     "output_type": "stream",
     "text": [
      "최상의 교차 검증 점수: 0.89\n"
     ]
    }
   ],
   "source": [
    "grid = GridSearchCV(LogisticRegression(), param_grid, cv=5, verbose=5, n_jobs=4)\n",
    "grid.fit(X_train, y_train)\n",
    "print(\"최상의 교차 검증 점수: {:.2f}\".format(grid.best_score_))"
   ]
  },
  {
   "cell_type": "markdown",
   "metadata": {},
   "source": [
    "# 7.4 Stopword"
   ]
  },
  {
   "cell_type": "code",
   "execution_count": 25,
   "metadata": {},
   "outputs": [
    {
     "name": "stdout",
     "output_type": "stream",
     "text": [
      "불용어 개수: 318\n",
      "매 10번째 불용어: \n",
      "['very', 'formerly', 'another', 'these', 'from', 'nowhere', 'when', 'ie', 'whatever', 'if', 'than', 'how', 'done', 'others', 'interest', 'eleven', 'or', 'what', 'one', 'hereby', 'yourself', 'give', 'system', 'also', 'since', 'often', 'for', 'a', 'towards', 'i', 'seemed', 'therefore']\n",
      "불용어가 제거된 X_train: \n",
      "<25000x26967 sparse matrix of type '<class 'numpy.int64'>'\n",
      "\twith 2164624 stored elements in Compressed Sparse Row format>\n"
     ]
    }
   ],
   "source": [
    "# 1. Stopword\n",
    "from sklearn.feature_extraction.text import ENGLISH_STOP_WORDS\n",
    "print(\"불용어 개수: {}\".format(len(ENGLISH_STOP_WORDS)))\n",
    "print(\"매 10번째 불용어: \\n{}\".format(list(ENGLISH_STOP_WORDS)[::10]))\n",
    "\n",
    "# stopword 제거\n",
    "from sklearn.feature_extraction.text import CountVectorizer\n",
    "from sklearn.datasets import load_files\n",
    "\n",
    "### Data\n",
    "reviews_train = load_files(\"data/aclImdb/train/\")\n",
    "text_train, y_train = reviews_train.data, reviews_train.target\n",
    "\n",
    "# stopword 제거\n",
    "vect = CountVectorizer(min_df=5, stop_words='english').fit(text_train)\n",
    "X_train = vect.transform(text_train)\n",
    "print(\"불용어가 제거된 X_train: \\n{}\".format(repr(X_train)))"
   ]
  },
  {
   "cell_type": "code",
   "execution_count": 27,
   "metadata": {},
   "outputs": [
    {
     "name": "stdout",
     "output_type": "stream",
     "text": [
      "Fitting 5 folds for each of 5 candidates, totalling 25 fits\n"
     ]
    },
    {
     "name": "stderr",
     "output_type": "stream",
     "text": [
      "[Parallel(n_jobs=4)]: Using backend LokyBackend with 4 concurrent workers.\n",
      "[Parallel(n_jobs=4)]: Done  10 tasks      | elapsed:    2.3s\n",
      "[Parallel(n_jobs=4)]: Done  25 out of  25 | elapsed:   13.3s finished\n",
      "/anaconda3/envs/base-workspace/lib/python3.6/site-packages/sklearn/linear_model/logistic.py:432: FutureWarning: Default solver will be changed to 'lbfgs' in 0.22. Specify a solver to silence this warning.\n",
      "  FutureWarning)\n"
     ]
    },
    {
     "name": "stdout",
     "output_type": "stream",
     "text": [
      "최상의 교차 검증: 0.88\n"
     ]
    }
   ],
   "source": [
    "# 2. Grid Search\n",
    "grid = GridSearchCV(LogisticRegression(), param_grid, cv=5, verbose=5, n_jobs=4)\n",
    "grid.fit(X_train, y_train)\n",
    "print(\"최상의 교차 검증: {:.2f}\".format(grid.best_score_))"
   ]
  },
  {
   "cell_type": "markdown",
   "metadata": {},
   "source": [
    "- 27,000개가 넘는 특성에서 305개를 제외했다고 성능이나 모델 해거석이 나아진 것 같지는 않다. \n",
    "- CountVectorizer의 max_df 옵션을 지정하여 자주 나타나는 단어를 제거하고 특성의 개수와 성능에 어떻게 영향을 주는지 연습한다."
   ]
  },
  {
   "cell_type": "markdown",
   "metadata": {},
   "source": [
    "# 7.5 tf-idf로 데이터 스케일 변경하기"
   ]
  },
  {
   "cell_type": "code",
   "execution_count": 30,
   "metadata": {},
   "outputs": [
    {
     "data": {
      "text/latex": [
       "\n",
       "$$tfidf(w, d) = tf(log((N+1) / (N_w + 1)) + 1)$$"
      ],
      "text/plain": [
       "<IPython.core.display.Latex object>"
      ]
     },
     "metadata": {},
     "output_type": "display_data"
    }
   ],
   "source": [
    "%%latex\n",
    "\n",
    "$$tfidf(w, d) = tf(log((N+1) / (N_w + 1)) + 1)$$"
   ]
  },
  {
   "cell_type": "markdown",
   "metadata": {},
   "source": [
    "- scikit-learn에는 tf-idf 계산 후에 scaling으로 각 문서 벡터의 길이가 1이 되도록 스케일을 바꾼다."
   ]
  },
  {
   "cell_type": "code",
   "execution_count": 32,
   "metadata": {},
   "outputs": [],
   "source": [
    "from sklearn.feature_extraction.text import TfidfVectorizer\n",
    "from sklearn.pipeline import make_pipeline\n",
    "\n",
    "pipe = make_pipeline(TfidfVectorizer(min_df=5), LogisticRegression())\n",
    "param_grid = {'logisticregression__C': [0.001, 0.01, 0.1, 1, 10]}"
   ]
  },
  {
   "cell_type": "code",
   "execution_count": 33,
   "metadata": {},
   "outputs": [
    {
     "name": "stderr",
     "output_type": "stream",
     "text": [
      "/anaconda3/envs/base-workspace/lib/python3.6/site-packages/sklearn/linear_model/logistic.py:432: FutureWarning: Default solver will be changed to 'lbfgs' in 0.22. Specify a solver to silence this warning.\n",
      "  FutureWarning)\n"
     ]
    },
    {
     "name": "stdout",
     "output_type": "stream",
     "text": [
      "최상의 교차 검증 점수: 0.89\n"
     ]
    }
   ],
   "source": [
    "grid = GridSearchCV(pipe, param_grid, cv=5, n_jobs=4)\n",
    "grid.fit(text_train, y_train)\n",
    "print(\"최상의 교차 검증 점수: {:.2f}\".format(grid.best_score_))"
   ]
  },
  {
   "cell_type": "code",
   "execution_count": 34,
   "metadata": {},
   "outputs": [],
   "source": [
    "vectorizer = grid.best_estimator_.named_steps['tfidfvectorizer']\n",
    "\n",
    "# 훈련 데이터 셋 반환\n",
    "X_train = vectorizer.transform(text_train)\n",
    "max_value = X_train.max(axis=0).toarray().ravel()\n",
    "sorted_by_tfidf = max_value.argsort()"
   ]
  },
  {
   "cell_type": "code",
   "execution_count": 35,
   "metadata": {},
   "outputs": [],
   "source": [
    "feature_names = np.array(vectorizer.get_feature_names())"
   ]
  },
  {
   "cell_type": "code",
   "execution_count": 37,
   "metadata": {},
   "outputs": [
    {
     "name": "stdout",
     "output_type": "stream",
     "text": [
      "tfidf가 가장 낮은 특성: \n",
      "['suplexes' 'gauche' 'hypocrites' 'oncoming' 'galadriel' 'songwriting'\n",
      " 'cataclysmic' 'sylvain' 'emerald' 'mclaughlin' 'oversee' 'pressuring'\n",
      " 'uphold' 'thieving' 'inconsiderate' 'ware' 'denim' 'booed' 'reverting'\n",
      " 'spacious']\n"
     ]
    }
   ],
   "source": [
    "print(\"tfidf가 가장 낮은 특성: \\n{}\".format(\n",
    "    feature_names[sorted_by_tfidf[:20]])\n",
    ")"
   ]
  },
  {
   "cell_type": "code",
   "execution_count": 42,
   "metadata": {},
   "outputs": [
    {
     "name": "stdout",
     "output_type": "stream",
     "text": [
      "tfidf가 가장 높은 특성: \n",
      "['muppet' 'brendan' 'zatoichi' 'dev' 'demons' 'lennon' 'bye' 'weller'\n",
      " 'woo' 'sasquatch' 'botched' 'xica' 'darkman' 'casper' 'doodlebops'\n",
      " 'steve' 'smallville' 'wei' 'scanners' 'pokemon']\n"
     ]
    }
   ],
   "source": [
    "print(\"tfidf가 가장 높은 특성: \\n{}\".format(\n",
    "    feature_names[sorted_by_tfidf[-20:]])\n",
    ")"
   ]
  },
  {
   "cell_type": "markdown",
   "metadata": {},
   "source": [
    "- idf가 낮은 단어, 가장 자주 나타나서 덜 중요하다고 생각하는 단어를 확인해보겠습니다."
   ]
  },
  {
   "cell_type": "code",
   "execution_count": 44,
   "metadata": {},
   "outputs": [
    {
     "name": "stdout",
     "output_type": "stream",
     "text": [
      "idf가 가장 낮은 특성: \n",
      "['the' 'and' 'of' 'to' 'this' 'is' 'it' 'in' 'that' 'but' 'for' 'with'\n",
      " 'was' 'as' 'on' 'movie' 'not' 'br' 'have' 'one' 'be' 'film' 'are' 'you'\n",
      " 'all' 'at' 'an' 'by' 'so' 'from' 'like' 'who' 'they' 'there' 'if' 'his'\n",
      " 'out' 'just' 'about' 'he' 'or' 'has' 'what' 'some' 'good' 'can' 'more'\n",
      " 'when' 'time' 'up' 'very' 'even' 'only' 'no' 'would' 'my' 'see' 'really'\n",
      " 'story' 'which' 'well' 'had' 'me' 'than' 'much' 'their' 'get' 'were'\n",
      " 'other' 'been' 'do' 'most' 'don' 'her' 'also' 'into' 'first' 'made' 'how'\n",
      " 'great' 'because' 'will' 'people' 'make' 'way' 'could' 'we' 'bad' 'after'\n",
      " 'any' 'too' 'then' 'them' 'she' 'watch' 'think' 'acting' 'movies' 'seen'\n",
      " 'its']\n"
     ]
    }
   ],
   "source": [
    "sorted_by_idf = np.argsort(vectorizer.idf_)\n",
    "print(\"idf가 가장 낮은 특성: \\n{}\".format(\n",
    "    feature_names[sorted_by_idf[:100]])\n",
    ")"
   ]
  },
  {
   "cell_type": "markdown",
   "metadata": {},
   "source": [
    "# 7-6. 모델 계수 조사"
   ]
  },
  {
   "cell_type": "code",
   "execution_count": 45,
   "metadata": {},
   "outputs": [],
   "source": [
    "import mglearn"
   ]
  },
  {
   "cell_type": "code",
   "execution_count": 46,
   "metadata": {},
   "outputs": [
    {
     "data": {
      "image/png": "[encoded data removed]",
      "text/plain": [
       "<Figure size 1080x360 with 1 Axes>"
      ]
     },
     "metadata": {
      "needs_background": "light"
     },
     "output_type": "display_data"
    }
   ],
   "source": [
    "mglearn.tools.visualize_coefficients(\n",
    "    grid.best_estimator_.named_steps['logisticregression'].coef_[0],\n",
    "feature_names, n_top_features=40)"
   ]
  },
  {
   "cell_type": "markdown",
   "metadata": {},
   "source": [
    "# 7-7. 여러 단어로 만든 BOW(n-그램)"
   ]
  },
  {
   "cell_type": "code",
   "execution_count": 55,
   "metadata": {},
   "outputs": [],
   "source": [
    "from matplotlib import pyplot as plt"
   ]
  },
  {
   "cell_type": "markdown",
   "metadata": {},
   "source": [
    "- ngram: 연속된 토큰이다."
   ]
  },
  {
   "cell_type": "markdown",
   "metadata": {},
   "source": [
    "CountVectorizer와 TfidfVectorizer는 ngram_range 매개변수에 특성으로 고려할 토큰 범위를 지정할 수 있다."
   ]
  },
  {
   "cell_type": "code",
   "execution_count": 47,
   "metadata": {},
   "outputs": [
    {
     "name": "stdout",
     "output_type": "stream",
     "text": [
      "bards_words: \n",
      "['The fool doth think he is wise', 'but the wise man knows himself to be a fool']\n"
     ]
    }
   ],
   "source": [
    "print(\"bards_words: \\n{}\".format(bard_words))"
   ]
  },
  {
   "cell_type": "code",
   "execution_count": 48,
   "metadata": {},
   "outputs": [
    {
     "name": "stdout",
     "output_type": "stream",
     "text": [
      "어휘 사전 크기: 14\n",
      "어휘 사전: \n",
      "['be fool', 'but the', 'doth think', 'fool doth', 'he is', 'himself to', 'is wise', 'knows himself', 'man knows', 'the fool', 'the wise', 'think he', 'to be', 'wise man']\n"
     ]
    }
   ],
   "source": [
    "cv = CountVectorizer(ngram_range=(2, 2)).fit(bard_words)\n",
    "print(\"어휘 사전 크기: {}\".format(len(cv.vocabulary_)))\n",
    "print(\"어휘 사전: \\n{}\".format(cv.get_feature_names()))"
   ]
  },
  {
   "cell_type": "code",
   "execution_count": 49,
   "metadata": {},
   "outputs": [
    {
     "name": "stdout",
     "output_type": "stream",
     "text": [
      "변환된 데이터(밀집 배열): \n",
      "[[0 0 1 1 1 0 1 0 0 1 0 1 0 0]\n",
      " [1 1 0 0 0 1 0 1 1 0 1 0 1 1]]\n"
     ]
    }
   ],
   "source": [
    "print(\"변환된 데이터(밀집 배열): \\n{}\".format(cv.transform(bard_words).toarray()))"
   ]
  },
  {
   "cell_type": "code",
   "execution_count": 50,
   "metadata": {},
   "outputs": [
    {
     "name": "stdout",
     "output_type": "stream",
     "text": [
      "어휘 사전 크기: 39\n",
      "어휘 사전: \n",
      "['be', 'be fool', 'but', 'but the', 'but the wise', 'doth', 'doth think', 'doth think he', 'fool', 'fool doth', 'fool doth think', 'he', 'he is', 'he is wise', 'himself', 'himself to', 'himself to be', 'is', 'is wise', 'knows', 'knows himself', 'knows himself to', 'man', 'man knows', 'man knows himself', 'the', 'the fool', 'the fool doth', 'the wise', 'the wise man', 'think', 'think he', 'think he is', 'to', 'to be', 'to be fool', 'wise', 'wise man', 'wise man knows']\n"
     ]
    }
   ],
   "source": [
    "cv = CountVectorizer(ngram_range=(1,3)).fit(bard_words)\n",
    "print(\"어휘 사전 크기: {}\".format(len(cv.vocabulary_)))\n",
    "print(\"어휘 사전: \\n{}\".format(cv.get_feature_names()))"
   ]
  },
  {
   "cell_type": "code",
   "execution_count": 51,
   "metadata": {},
   "outputs": [
    {
     "name": "stdout",
     "output_type": "stream",
     "text": [
      "Fitting 5 folds for each of 18 candidates, totalling 90 fits\n"
     ]
    },
    {
     "name": "stderr",
     "output_type": "stream",
     "text": [
      "[Parallel(n_jobs=4)]: Using backend LokyBackend with 4 concurrent workers.\n",
      "[Parallel(n_jobs=4)]: Done  10 tasks      | elapsed:  1.2min\n",
      "[Parallel(n_jobs=4)]: Done  64 tasks      | elapsed:  8.2min\n",
      "[Parallel(n_jobs=4)]: Done  90 out of  90 | elapsed: 12.8min finished\n",
      "/anaconda3/envs/base-workspace/lib/python3.6/site-packages/sklearn/linear_model/logistic.py:432: FutureWarning: Default solver will be changed to 'lbfgs' in 0.22. Specify a solver to silence this warning.\n",
      "  FutureWarning)\n"
     ]
    },
    {
     "name": "stdout",
     "output_type": "stream",
     "text": [
      "최상의 교차 검증: 0.91\n",
      "최적 매개 변수: \n",
      "{'logisticregression__C': 100, 'tfidfvectorizer__ngram_range': (1, 3)}\n"
     ]
    }
   ],
   "source": [
    "pipe = make_pipeline(TfidfVectorizer(min_df=5), LogisticRegression())\n",
    "param_grid = {'logisticregression__C': [0.001, 0.01, 0.1, 1, 10, 100],\n",
    "              'tfidfvectorizer__ngram_range': [(1,1), (1,2), (1,3)]}\n",
    "grid = GridSearchCV(pipe, param_grid, cv=5, verbose=5, n_jobs=4)\n",
    "grid.fit(text_train, y_train)\n",
    "print(\"최상의 교차 검증: {:.2f}\".format(grid.best_score_))\n",
    "print(\"최적 매개 변수: \\n{}\".format(grid.best_params_))"
   ]
  },
  {
   "cell_type": "markdown",
   "metadata": {},
   "source": [
    "- 결과에서 듯이 바이그램과 트라이그램을 추가해서 1%이상 성능을 높였다."
   ]
  },
  {
   "cell_type": "code",
   "execution_count": 59,
   "metadata": {},
   "outputs": [
    {
     "data": {
      "text/plain": [
       "<matplotlib.colorbar.Colorbar at 0x1a2774a3c8>"
      ]
     },
     "execution_count": 59,
     "metadata": {},
     "output_type": "execute_result"
    },
    {
     "data": {
      "image/png": "[encoded data removed]",
      "text/plain": [
       "<Figure size 432x288 with 2 Axes>"
      ]
     },
     "metadata": {
      "needs_background": "light"
     },
     "output_type": "display_data"
    }
   ],
   "source": [
    "scores = grid.cv_results_['mean_test_score'].reshape(-1, 3).T\n",
    "\n",
    "#heatmap\n",
    "heatmap = mglearn.tools.heatmap(\n",
    "    scores, xlabel=\"C\", ylabel=\"ngram_range\", cmap=\"viridis\", fmt=\"%.3f\",\n",
    "    xticklabels=param_grid['logisticregression__C'],\n",
    "    yticklabels=param_grid['tfidfvectorizer__ngram_range'])\n",
    "plt.colorbar(heatmap)"
   ]
  },
  {
   "cell_type": "code",
   "execution_count": 60,
   "metadata": {},
   "outputs": [
    {
     "data": {
      "image/png": "[encoded data removed]",
      "text/plain": [
       "<Figure size 1080x360 with 1 Axes>"
      ]
     },
     "metadata": {
      "needs_background": "light"
     },
     "output_type": "display_data"
    }
   ],
   "source": [
    "vect = grid.best_estimator_.named_steps['tfidfvectorizer']\n",
    "feature_names = np.array(vect.get_feature_names())\n",
    "coef = grid.best_estimator_.named_steps['logisticregression'].coef_\n",
    "mglearn.tools.visualize_coefficients(coef, feature_names, n_top_features=40)"
   ]
  }
 ],
 "metadata": {
  "kernelspec": {
   "display_name": "Python 3",
   "language": "python",
   "name": "python3"
  },
  "language_info": {
   "codemirror_mode": {
    "name": "ipython",
    "version": 3
   },
   "file_extension": ".py",
   "mimetype": "text/x-python",
   "name": "python",
   "nbconvert_exporter": "python",
   "pygments_lexer": "ipython3",
   "version": "3.6.7"
  }
 },
 "nbformat": 4,
 "nbformat_minor": 2
}
