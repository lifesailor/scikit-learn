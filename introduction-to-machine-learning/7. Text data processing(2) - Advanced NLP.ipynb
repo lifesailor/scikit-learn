{
 "cells": [
  {
   "cell_type": "markdown",
   "metadata": {},
   "source": [
    "# 1. 토큰화"
   ]
  },
  {
   "cell_type": "markdown",
   "metadata": {},
   "source": [
    "1. stemming: 일일이 어미를 찾아 제외하는 규칙 기반 방식 어간 추출\n",
    "2. lemmatization: 알려진 단어 형태 사전을(명시적이고 사람이 구축한 시스템) 사용하고 문장에서 단어의 역할을 고려\n",
    "     - 정규화: 두 처리 방식, 표제어 추출과 어간 추출은 단어의 정규화의 한 형태로 볼 수 있다."
   ]
  },
  {
   "cell_type": "code",
   "execution_count": 1,
   "metadata": {},
   "outputs": [],
   "source": [
    "import spacy\n",
    "import nltk"
   ]
  },
  {
   "cell_type": "code",
   "execution_count": 9,
   "metadata": {},
   "outputs": [],
   "source": [
    "# spacy의 영어 모델을 로드합니다.\n",
    "en_nlp = spacy.load('en')\n",
    "\n",
    "# nltk PorterStemmer 객체 생성한다.\n",
    "stemmer = nltk.stem.PorterStemmer()\n",
    "\n",
    "# spacy 표제어 추출과 nltk 어간 추출을 비교하는 함수\n",
    "def compare_normalization(doc):\n",
    "    doc_spacy = en_nlp(doc)\n",
    "    \n",
    "    print(\"표제어: \")\n",
    "    print([token.lemma_ for token in doc_spacy])\n",
    "    \n",
    "    print(\"어간: \")\n",
    "    print([stemmer.stem(token.norm_.lower()) for token in doc_spacy])"
   ]
  },
  {
   "cell_type": "code",
   "execution_count": 10,
   "metadata": {},
   "outputs": [
    {
     "name": "stdout",
     "output_type": "stream",
     "text": [
      "표제어: \n",
      "['-PRON-', 'meeting', 'today', 'be', 'bad', 'than', 'yesterday', ',', \"i'm\", 'scar', 'of', 'meet', 'the', 'client', 'tomrrow', '.']\n",
      "어간: \n",
      "['our', 'meet', 'today', 'wa', 'wors', 'than', 'yesterday', ',', \"i'm\", 'scare', 'of', 'meet', 'the', 'client', 'tomrrow', '.']\n"
     ]
    }
   ],
   "source": [
    "compare_normalization(u\"Our meeting today was worse than yesterday,\" \n",
    "                       \"i'm scared of meeting the clients tomrrow. \")"
   ]
  },
  {
   "cell_type": "markdown",
   "metadata": {},
   "source": [
    "- 표제어 추출은 어간 추출보다 훨씬 복잡한 처리를 거친다. 하지만 머신러닝을 위해 토큰 정규화를 할 때는 어간 추출보다 좋은 결과를 낸다."
   ]
  }
 ],
 "metadata": {
  "kernelspec": {
   "display_name": "Python 3",
   "language": "python",
   "name": "python3"
  },
  "language_info": {
   "codemirror_mode": {
    "name": "ipython",
    "version": 3
   },
   "file_extension": ".py",
   "mimetype": "text/x-python",
   "name": "python",
   "nbconvert_exporter": "python",
   "pygments_lexer": "ipython3",
   "version": "3.6.7"
  }
 },
 "nbformat": 4,
 "nbformat_minor": 2
}
