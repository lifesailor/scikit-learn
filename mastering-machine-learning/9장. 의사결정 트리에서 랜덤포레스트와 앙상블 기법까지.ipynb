{
 "cells": [
  {
   "cell_type": "markdown",
   "metadata": {},
   "source": [
    "# 1. Bagging - Bootstrap Aggregating\n",
    "\n",
    "    - 예측기의 분산을 줄여주는 앙상블 메타알고리즘이다.\n",
    "    - 배깅은 훈련 데이터의 여러 변형에 대해 독립적으로 다수의 모델을 적합한다.\n",
    "    - 훈련 데이터의 변형은 부트스트랩 재추출이라는 과정을 거쳐 생성된다."
   ]
  },
  {
   "cell_type": "markdown",
   "metadata": {},
   "source": [
    "### Bootstarp\n",
    "\n",
    "원시 표본에서 무작위 추출을 통해서 다수의 변형을 생성한다. 모든 변형 표본은 원시 데이터와 동일한 개수의 관측치를 가지며 모든 관측치를 포함할 수도 포함하지 않을 수도 있다. 각 변형에 대해 통계량을 구하고 이 통계량을 이용해 신뢰구간을 설정하고 표준 오차를 계산하는 등의 방법으로 불확실성을 줄인다. 이 방법은 관측치의 표본이 독립적으로 추출됐을 때만 사용할 수 있다."
   ]
  },
  {
   "cell_type": "code",
   "execution_count": 1,
   "metadata": {},
   "outputs": [
    {
     "name": "stdout",
     "output_type": "stream",
     "text": [
      "Original Sample: [69 87 94 99 72 81 72 37  1 92]\n",
      "Sample mean: 70.4\n"
     ]
    }
   ],
   "source": [
    "import numpy as np\n",
    "\n",
    "sample = np.random.randint(low=1, high=100, size=10)\n",
    "print(\"Original Sample: %s\" %sample)\n",
    "print(\"Sample mean: %s\" % sample.mean())"
   ]
  },
  {
   "cell_type": "code",
   "execution_count": 2,
   "metadata": {},
   "outputs": [
    {
     "name": "stdout",
     "output_type": "stream",
     "text": [
      "Number of bootstrap resamples: 100\n",
      "Example re-sample: [69 69 99 37 99 99 94 72 99 94]\n",
      "Mean of resamples' means: 69.20499999999998\n"
     ]
    }
   ],
   "source": [
    "### bootstrap\n",
    "resamples = [np.random.choice(sample, size=sample.size) for i in range(100)]\n",
    "print(\"Number of bootstrap resamples: %s\" % len(resamples))\n",
    "print(\"Example re-sample: %s\" % resamples[0])\n",
    "resample_means = np.array([resample.mean() for resample in resamples])\n",
    "print(\"Mean of resamples\\' means: %s\" % resample_means.mean())"
   ]
  },
  {
   "cell_type": "markdown",
   "metadata": {},
   "source": [
    "### Bagging\n",
    "\n",
    "- Bagging은 의사결정 트리와 같이 높은 분산과 낮은 편향을 가진 예측기에 유용한 메타알고리즘이다. Ranndom Forest의 전체 트리 개수는 중요한 Hyperparamterdㅣ다. 이 숫자가 증가하면 계산 복잡도가 증가하지만 모델의 성능은 향상된다. \n",
    "\n",
    "- 가지치기나 잎 노드별 최소 훈련 인스턴스 개수 등의 정규화 기법은 개별 예측기에 비해 그다지 중요하지 않다. 배깅 자체에 일종의 정규화 과정이 포함되어 있기 때문이다. 랜덤 포레스트는 각 노드에서 랜덤으로 설정한 특징 중 최고인 특징을 선택한다. "
   ]
  },
  {
   "cell_type": "code",
   "execution_count": 3,
   "metadata": {},
   "outputs": [],
   "source": [
    "from sklearn.tree import DecisionTreeClassifier\n",
    "from sklearn.ensemble import RandomForestClassifier\n",
    "from sklearn.datasets import make_classification\n",
    "from sklearn.model_selection import train_test_split\n",
    "from sklearn.metrics import classification_report\n",
    "\n",
    "# make classification dataset\n",
    "X, y = make_classification(n_samples = 1000, n_features= 100, n_informative=20, n_clusters_per_class=2, random_state=11)\n",
    "X_train, X_test, y_train, y_test = train_test_split(X, y, random_state=11)"
   ]
  },
  {
   "cell_type": "code",
   "execution_count": 4,
   "metadata": {},
   "outputs": [
    {
     "name": "stdout",
     "output_type": "stream",
     "text": [
      "             precision    recall  f1-score   support\n",
      "\n",
      "          0       0.73      0.66      0.69       127\n",
      "          1       0.68      0.75      0.71       123\n",
      "\n",
      "avg / total       0.71      0.70      0.70       250\n",
      "\n"
     ]
    }
   ],
   "source": [
    "clf = DecisionTreeClassifier(random_state=11)\n",
    "clf.fit(X_train, y_train)\n",
    "predictions = clf.predict(X_test)\n",
    "print(classification_report(y_test, predictions))"
   ]
  },
  {
   "cell_type": "code",
   "execution_count": 5,
   "metadata": {},
   "outputs": [
    {
     "name": "stdout",
     "output_type": "stream",
     "text": [
      "             precision    recall  f1-score   support\n",
      "\n",
      "          0       0.74      0.83      0.79       127\n",
      "          1       0.80      0.70      0.75       123\n",
      "\n",
      "avg / total       0.77      0.77      0.77       250\n",
      "\n"
     ]
    }
   ],
   "source": [
    "clf = RandomForestClassifier(random_state=11)\n",
    "clf.fit(X_train, y_train)\n",
    "predictions = clf.predict(X_test)\n",
    "print(classification_report(y_test, predictions))"
   ]
  },
  {
   "cell_type": "markdown",
   "metadata": {},
   "source": [
    "# 2. Boosting"
   ]
  },
  {
   "cell_type": "markdown",
   "metadata": {},
   "source": [
    "- Adaboost를 비롯한 대부분의 부스팅 알고리즘은 약한 학습자로 모든 종류의 기초 예측기를 사용할 수 있다. 다음 반복 시 Adaboost는 훈련 인스턴스의 가중치를 조정하는데, 직전에 잘못 분류된 인스턴스에 대해서는 가중치를 올리고 제대로 분류된 인스턴스에 대해서는 가중치를 감소시킨다. 그런 다음 다른 약한 학습자를 가중치가 조정된 인스턴스를 상대로 훈련시킨다. 후속 학습자들은 점진적으로 앙상블이 잘못 예측한 인스턴스에 더 집중하게 된다. 알고리즘은 완벽한 성능에 도달하거나 미리 설정한 반복 횟수에 도달하면 멈춘다. 앙상블은 기초 예측기들의 예측을 가중 합산해 예측한다."
   ]
  },
  {
   "cell_type": "code",
   "execution_count": 6,
   "metadata": {},
   "outputs": [],
   "source": [
    "%matplotlib inline"
   ]
  },
  {
   "cell_type": "code",
   "execution_count": 8,
   "metadata": {},
   "outputs": [],
   "source": [
    "from sklearn.ensemble import AdaBoostClassifier\n",
    "from sklearn.tree import DecisionTreeClassifier\n",
    "from sklearn.datasets import make_classification\n",
    "from sklearn.model_selection import train_test_split\n",
    "import matplotlib.pyplot as plt"
   ]
  },
  {
   "cell_type": "code",
   "execution_count": 9,
   "metadata": {},
   "outputs": [],
   "source": [
    "X, y = make_classification(n_samples=1000, n_features=50, n_informative=30, n_clusters_per_class=3, random_state=11)\n",
    "X_train, X_test, y_train, y_test = train_test_split(X, y, random_state=11)"
   ]
  },
  {
   "cell_type": "code",
   "execution_count": 10,
   "metadata": {},
   "outputs": [
    {
     "name": "stdout",
     "output_type": "stream",
     "text": [
      "Decision tree accuracy: 0.688\n"
     ]
    }
   ],
   "source": [
    "clf = DecisionTreeClassifier(random_state=11)\n",
    "clf.fit(X_train, y_train)\n",
    "print(\"Decision tree accuracy: %s\" %clf.score(X_test, y_test))"
   ]
  },
  {
   "cell_type": "code",
   "execution_count": 11,
   "metadata": {},
   "outputs": [
    {
     "data": {
      "text/plain": [
       "AdaBoostClassifier(algorithm='SAMME.R', base_estimator=None,\n",
       "          learning_rate=1.0, n_estimators=50, random_state=11)"
      ]
     },
     "execution_count": 11,
     "metadata": {},
     "output_type": "execute_result"
    }
   ],
   "source": [
    "clf = AdaBoostClassifier(n_estimators=50, random_state=11)\n",
    "clf.fit(X_train, y_train)"
   ]
  },
  {
   "cell_type": "code",
   "execution_count": 17,
   "metadata": {},
   "outputs": [
    {
     "data": {
      "text/plain": [
       "[<matplotlib.lines.Line2D at 0x1a183259b0>]"
      ]
     },
     "execution_count": 17,
     "metadata": {},
     "output_type": "execute_result"
    },
    {
     "data": {
      "image/png": "[encoded data removed]",
      "text/plain": [
       "<Figure size 432x288 with 1 Axes>"
      ]
     },
     "metadata": {},
     "output_type": "display_data"
    }
   ],
   "source": [
    "accuracies = []\n",
    "accuracies.append(clf.score(X_test, y_test))\n",
    "plt.title(\"Ensemble Accuracy\")\n",
    "plt.ylabel(\"Accuracy\")\n",
    "plt.xlabel(\"Number of base estimators in ensemble\")\n",
    "plt.plot(range(1, 51), [accuracy for accuracy in clf.staged_score(X_test, y_test)])"
   ]
  },
  {
   "cell_type": "markdown",
   "metadata": {},
   "source": [
    "# 3. Stacking"
   ]
  },
  {
   "cell_type": "markdown",
   "metadata": {},
   "source": [
    "- Stacking은 앙상블을 만드는 접근 방식을 말하는 것으로 메타 예측기를 사용해서 기초 예측기들의 예측을 병합한다. 종종 혼성 기법이라고 불리는 이 방법은 두 번째 지도 학습을 추가하는 것으로 볼 수 있다. 즉, 반응 변수를 예측하려면 기초 예측기들의 예측을 사용해 메타예측기를 훈련시켜야 한다. 스태킹된 앙상블을 훈련시키려면 먼저 훈련 집합을 사용해 기초 예측기를 훈련시킨다. 배깅과 부스팅과는 달리 스태킹은 종류가 서로 다른 기초 예측기를 사용할 수 있다. 예를 들어 랜덤 포레스트와 로지스틱 회귀를 함께 사용할 수도 있다. 메타예측기의 훈련 집합으로는 기초 예측기의 예측과 실제 데이터를 사용한다. 메타예측기는 단순한 투표나 평균화 방식보다 더 복잡한 방식으로 예측기를 병합해 학습한다."
   ]
  },
  {
   "cell_type": "code",
   "execution_count": 20,
   "metadata": {},
   "outputs": [],
   "source": [
    "import numpy as np \n",
    "from sklearn.model_selection import train_test_split\n",
    "from sklearn.neighbors import KNeighborsClassifier\n",
    "from sklearn.tree import DecisionTreeClassifier\n",
    "from sklearn.linear_model import LinearRegression, LogisticRegression\n",
    "from sklearn.datasets import make_classification\n",
    "from sklearn.base import clone, BaseEstimator, TransformerMixin, ClassifierMixin"
   ]
  },
  {
   "cell_type": "code",
   "execution_count": 21,
   "metadata": {},
   "outputs": [],
   "source": [
    "class StackingClassifier(BaseEstimator, ClassifierMixin, TransformerMixin):\n",
    "    def __init__(self, classifiers):\n",
    "        self.classifiers = classifiers\n",
    "        self.meta_classifier = DecisionTreeClassifier()\n",
    "        \n",
    "    def fit(self, X, y):\n",
    "        for clf in self.classifiers:\n",
    "            clf.fit(X, y)\n",
    "            \n",
    "        self.meta_classifier.fit(self._get_meta_features(X), y)\n",
    "        return self\n",
    "        \n",
    "    def _get_meta_features(self, X):\n",
    "        probas = np.asarray([clf.predict_proba(X) for clf in self.classifiers])\n",
    "        return np.concatenate(probas, axis=1)\n",
    "        \n",
    "    def predict(self, X):\n",
    "        return self.meta_classifier.predict(self._get_meta_features(X))\n",
    "    \n",
    "    def predict_proba(self, X):\n",
    "        return self.meta_classifier.predict_proba(self._get_meta_features(X))\n",
    "    \n",
    "    X, y = make_classification(\n",
    "        n_samples=1000, n_features=50, n_informative=30,\n",
    "        n_clusters_per_class=3, random_state=11)\n",
    "    X_train, X_test, y_train, y_test = train_test_split(X, y, random_state=11)"
   ]
  },
  {
   "cell_type": "code",
   "execution_count": 22,
   "metadata": {},
   "outputs": [
    {
     "name": "stdout",
     "output_type": "stream",
     "text": [
      "Logistic regression accuracy: 0.816\n",
      "KNN accuracy: 0.836\n"
     ]
    }
   ],
   "source": [
    "lr = LogisticRegression()\n",
    "lr.fit(X_train, y_train)\n",
    "print(\"Logistic regression accuracy: %s\" % lr.score(X_test, y_test))\n",
    "\n",
    "knn_clf = KNeighborsClassifier()\n",
    "knn_clf.fit(X_train, y_train)\n",
    "print(\"KNN accuracy: %s\" % knn_clf.score(X_test, y_test))"
   ]
  },
  {
   "cell_type": "code",
   "execution_count": null,
   "metadata": {},
   "outputs": [],
   "source": [
    "base_classifiers = [lr, knn_clf]\n",
    "stacking_clf = StackingClassifier(base_classifiers)\n",
    "stacking_clf.fit(X_train, y_train)\n",
    "print(\"Stacking classifier accuracy: %s\" stacking_clf.score(X))"
   ]
  }
 ],
 "metadata": {
  "kernelspec": {
   "display_name": "Python 3",
   "language": "python",
   "name": "python3"
  },
  "language_info": {
   "codemirror_mode": {
    "name": "ipython",
    "version": 3
   },
   "file_extension": ".py",
   "mimetype": "text/x-python",
   "name": "python",
   "nbconvert_exporter": "python",
   "pygments_lexer": "ipython3",
   "version": "3.6.5"
  }
 },
 "nbformat": 4,
 "nbformat_minor": 2
}
